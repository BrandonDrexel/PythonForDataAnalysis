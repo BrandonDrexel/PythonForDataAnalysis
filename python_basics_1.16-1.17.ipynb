{
 "cells": [
  {
   "cell_type": "code",
   "execution_count": 2,
   "metadata": {},
   "outputs": [
    {
     "data": {
      "text/plain": [
       "True"
      ]
     },
     "execution_count": 2,
     "metadata": {},
     "output_type": "execute_result"
    }
   ],
   "source": [
    "job_title = 'Data Scientist'\n",
    "keyword = 'Data'\n",
    "\n",
    "def job_title_contains(job_title, keyword):\n",
    "    return keyword in job_title\n",
    "\n",
    "job_title_contains(job_title, keyword)"
   ]
  },
  {
   "cell_type": "code",
   "execution_count": 4,
   "metadata": {},
   "outputs": [
    {
     "data": {
      "text/plain": [
       "108000.0"
      ]
     },
     "execution_count": 4,
     "metadata": {},
     "output_type": "execute_result"
    }
   ],
   "source": [
    "salaries = [95000, 120000, 105000, 90000, 130000]\n",
    "\n",
    "def average_salary(salaries):\n",
    "    return sum(salaries) / len(salaries)\n",
    "\n",
    "average_salary(salaries)"
   ]
  },
  {
   "cell_type": "code",
   "execution_count": 8,
   "metadata": {},
   "outputs": [
    {
     "data": {
      "text/plain": [
       "{'minimum': 90000, 'maximum': 130000, 'average': 108000.0}"
      ]
     },
     "execution_count": 8,
     "metadata": {},
     "output_type": "execute_result"
    }
   ],
   "source": [
    "salaries = [95000, 120000, 105000, 90000, 130000]\n",
    "\n",
    "def salary_statistics(salaries):\n",
    "    return {\n",
    "        'minimum': min(salaries),\n",
    "        'maximum': max(salaries),\n",
    "        'average': sum(salaries) / len(salaries)\n",
    "    }\n",
    "\n",
    "salary_statistics(salaries)"
   ]
  },
  {
   "cell_type": "code",
   "execution_count": 19,
   "metadata": {},
   "outputs": [
    {
     "data": {
      "text/plain": [
       "{'total_postings': 3,\n",
       " 'average_salary': 98333,\n",
       " 'unique_locations': ['New York', 'San Francisco']}"
      ]
     },
     "execution_count": 19,
     "metadata": {},
     "output_type": "execute_result"
    }
   ],
   "source": [
    "job_postings = [\n",
    "    {'title': 'Data Scientist', 'location': 'New York', 'salary': 95000},\n",
    "    {'title': 'Data Analyst', 'location': 'San Francisco', 'salary': 85000},\n",
    "    {'title': 'Machine Learning Engineer', 'location': 'New York', 'salary': 115000}\n",
    "]\n",
    "\n",
    "def job_posting_summary(job_postings):\n",
    "    return {\n",
    "        'total_postings': len(job_postings),\n",
    "        'average_salary': int(sum(job['salary'] for job in job_postings) / len(job_postings)),\n",
    "        'unique_locations': list(set(job['location'] for job in job_postings))\n",
    "    }\n",
    "\n",
    "job_posting_summary(job_postings)"
   ]
  },
  {
   "cell_type": "code",
   "execution_count": 22,
   "metadata": {},
   "outputs": [
    {
     "data": {
      "text/plain": [
       "108000.0"
      ]
     },
     "execution_count": 22,
     "metadata": {},
     "output_type": "execute_result"
    }
   ],
   "source": [
    "salaries = [95000, 120000, 105000, 90000, 130000]\n",
    "\n",
    "average_salary = lambda salaries: sum(salaries) / len(salaries)\n",
    "average_salary(salaries)"
   ]
  },
  {
   "cell_type": "code",
   "execution_count": 38,
   "metadata": {},
   "outputs": [
    {
     "data": {
      "text/plain": [
       "['Data Scientist', 'Data Engineer', 'Data Analyst']"
      ]
     },
     "execution_count": 38,
     "metadata": {},
     "output_type": "execute_result"
    }
   ],
   "source": [
    "job_titles = ['Data Scientist', 'Data Engineer', 'Machine Learning Engineer', 'Data Analyst']\n",
    "contains_data = list(filter(lambda titles: 'Data' in titles, job_titles))\n",
    "contains_data"
   ]
  },
  {
   "cell_type": "code",
   "execution_count": 48,
   "metadata": {},
   "outputs": [
    {
     "data": {
      "text/plain": [
       "[{'title': 'Data Scientist', 'skills': ['Python', 'SQL'], 'remote': True},\n",
       " {'title': 'Machine Learning Engineer',\n",
       "  'skills': ['Python', 'TensorFlow'],\n",
       "  'remote': True}]"
      ]
     },
     "execution_count": 48,
     "metadata": {},
     "output_type": "execute_result"
    }
   ],
   "source": [
    "job_postings = [\n",
    "    {'title': 'Data Scientist', 'skills': ['Python', 'SQL'], 'remote': True},\n",
    "    {'title': 'Data Analyst', 'skills': ['Excel', 'SQL'], 'remote': False},\n",
    "    {'title': 'Machine Learning Engineer', 'skills': ['Python', 'TensorFlow'], 'remote': True},\n",
    "    {'title': 'Software Developer', 'skills': ['Java', 'C++'], 'remote': True}\n",
    "]\n",
    "\n",
    "filter_postings = list(filter(lambda job: 'Python' in job['skills'] and job['remote'], job_postings))\n",
    "filter_postings"
   ]
  }
 ],
 "metadata": {
  "kernelspec": {
   "display_name": "python_course",
   "language": "python",
   "name": "python3"
  },
  "language_info": {
   "codemirror_mode": {
    "name": "ipython",
    "version": 3
   },
   "file_extension": ".py",
   "mimetype": "text/x-python",
   "name": "python",
   "nbconvert_exporter": "python",
   "pygments_lexer": "ipython3",
   "version": "3.12.8"
  }
 },
 "nbformat": 4,
 "nbformat_minor": 2
}
