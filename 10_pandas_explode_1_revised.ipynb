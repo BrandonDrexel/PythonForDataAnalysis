{
 "cells": [
  {
   "cell_type": "code",
   "execution_count": 2,
   "metadata": {},
   "outputs": [],
   "source": [
    "import pandas as pd\n",
    "import matplotlib.pyplot as plt\n",
    "from datasets import load_dataset\n",
    "\n",
    "dataset = load_dataset('lukebarousse/data_jobs')\n",
    "df = dataset['train'].to_pandas()\n",
    "\n",
    "df['job_posted_date'] = pd.to_datetime(df['job_posted_date'])"
   ]
  },
  {
   "cell_type": "code",
   "execution_count": null,
   "metadata": {},
   "outputs": [],
   "source": [
    "# Using the ast library, clean up the job_skills column to be of the list data type in preparation for exploding this column.\n",
    "# NOTE: For future problems, it'll be assumed that you have done this step in preparation for exploding this column.\n",
    "# Explode the job_skills column in the DataFrame and create a bar plot using pandas of the top 10 most common skills for Cloud Engineer.\n",
    "# Add labels for the x-axis (label as 'Skills'), y-axis (label as 'Count') and a title (set as 'Top 10 Most Common Skills for Cloud Engineers') for the plot.\n",
    "import ast\n",
    "df2 = df.copy()\n",
    "df2['job_skills'] = df2['job_skills'].apply(lambda x: ast.literal_eval(x) if pd.notna(x) else x)\n",
    "df2_ce = df2[df2['job_title_short'] == 'Cloud Engineer']\n",
    "ce_exploded = df2_ce.explode('job_skills')\n",
    "ce_exploded['job_skills'].value_counts().head(10).plot(kind='bar')\n",
    "plt.xlabel('Skills')\n",
    "plt.ylabel('Count')\n",
    "plt.title('Top 10 Most Common Skills for Cloud Engineers')\n",
    "plt.show()\n"
   ]
  }
 ],
 "metadata": {
  "kernelspec": {
   "display_name": "python_course",
   "language": "python",
   "name": "python3"
  },
  "language_info": {
   "codemirror_mode": {
    "name": "ipython",
    "version": 3
   },
   "file_extension": ".py",
   "mimetype": "text/x-python",
   "name": "python",
   "nbconvert_exporter": "python",
   "pygments_lexer": "ipython3",
   "version": "3.12.8"
  }
 },
 "nbformat": 4,
 "nbformat_minor": 2
}
