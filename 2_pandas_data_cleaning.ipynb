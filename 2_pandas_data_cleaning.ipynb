{
 "cells": [
  {
   "cell_type": "code",
   "execution_count": 2,
   "metadata": {},
   "outputs": [],
   "source": [
    "import pandas as pd\n",
    "import matplotlib.pyplot as plt\n",
    "from datasets import load_dataset\n",
    "\n",
    "dataset = load_dataset('lukebarousse/data_jobs')\n",
    "df = dataset['train'].to_pandas()\n",
    "\n",
    "df['job_posted_date'] = pd.to_datetime(df['job_posted_date'])"
   ]
  },
  {
   "cell_type": "code",
   "execution_count": 16,
   "metadata": {},
   "outputs": [
    {
     "name": "stdout",
     "output_type": "stream",
     "text": [
      "Rows before cleaning: 785741\n",
      "Rows after cleaning: 22003\n"
     ]
    }
   ],
   "source": [
    "salary_dropped = df.dropna(subset='salary_year_avg')\n",
    "print('Rows before cleaning:', len(df))\n",
    "print('Rows after cleaning:', len(salary_dropped))"
   ]
  },
  {
   "cell_type": "code",
   "execution_count": 24,
   "metadata": {},
   "outputs": [
    {
     "name": "stdout",
     "output_type": "stream",
     "text": [
      "Before dropping duplicates: 785741\n",
      "After dropping duplicates: 17218\n"
     ]
    }
   ],
   "source": [
    "#Remove duplicate rows from the DataFrame based on the job_location column. Display the number of rows before and after removing duplicates.\n",
    "\n",
    "locations_deduped = df.drop_duplicates(subset=['job_location'])\n",
    "print('Before dropping duplicates:', len(df))\n",
    "print('After dropping duplicates:', len(locations_deduped))\n",
    "\n"
   ]
  },
  {
   "cell_type": "code",
   "execution_count": 31,
   "metadata": {},
   "outputs": [
    {
     "data": {
      "text/plain": [
       "(0    None\n",
       " 1    None\n",
       " 2    None\n",
       " 3    None\n",
       " 4    None\n",
       " 5    None\n",
       " 6    None\n",
       " 7    None\n",
       " 8    None\n",
       " 9    None\n",
       " Name: salary_rate, dtype: object,\n",
       " 0    Unknown\n",
       " 1    Unknown\n",
       " 2    Unknown\n",
       " 3    Unknown\n",
       " 4    Unknown\n",
       " 5    Unknown\n",
       " 6    Unknown\n",
       " 7    Unknown\n",
       " 8    Unknown\n",
       " 9    Unknown\n",
       " Name: salary_rate, dtype: object)"
      ]
     },
     "execution_count": 31,
     "metadata": {},
     "output_type": "execute_result"
    }
   ],
   "source": [
    "#Fill missing values in the salary_rate column with the string 'Unknown'. Display the first 10 rows of the salary_rate column before and after filling.\n",
    "\n",
    "filled = df['salary_rate'].fillna('Unknown')\n",
    "df['salary_rate'].head(10), filled.head(10)\n"
   ]
  }
 ],
 "metadata": {
  "kernelspec": {
   "display_name": "python_course",
   "language": "python",
   "name": "python3"
  },
  "language_info": {
   "codemirror_mode": {
    "name": "ipython",
    "version": 3
   },
   "file_extension": ".py",
   "mimetype": "text/x-python",
   "name": "python",
   "nbconvert_exporter": "python",
   "pygments_lexer": "ipython3",
   "version": "3.12.8"
  }
 },
 "nbformat": 4,
 "nbformat_minor": 2
}
