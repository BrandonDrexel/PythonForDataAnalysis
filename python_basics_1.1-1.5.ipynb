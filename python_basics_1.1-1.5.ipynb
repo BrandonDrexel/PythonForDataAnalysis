{
 "cells": [
  {
   "cell_type": "code",
   "execution_count": 3,
   "metadata": {},
   "outputs": [
    {
     "name": "stdout",
     "output_type": "stream",
     "text": [
      "42\n"
     ]
    }
   ],
   "source": [
    "job_count = 42\n",
    "print(job_count)"
   ]
  },
  {
   "cell_type": "code",
   "execution_count": 6,
   "metadata": {},
   "outputs": [
    {
     "name": "stdout",
     "output_type": "stream",
     "text": [
      "Data Engineer DataWorks True\n"
     ]
    }
   ],
   "source": [
    "job_title = 'Data Engineer'\n",
    "company_name = 'DataWorks'\n",
    "remote = True\n",
    "\n",
    "print(job_title, company_name, remote)"
   ]
  },
  {
   "cell_type": "code",
   "execution_count": 8,
   "metadata": {},
   "outputs": [
    {
     "name": "stdout",
     "output_type": "stream",
     "text": [
      "140000\n"
     ]
    }
   ],
   "source": [
    "base_salary = 120000\n",
    "bonus = 20000\n",
    "total_compensation = base_salary + bonus\n",
    "print(total_compensation)"
   ]
  },
  {
   "cell_type": "code",
   "execution_count": 11,
   "metadata": {},
   "outputs": [
    {
     "name": "stdout",
     "output_type": "stream",
     "text": [
      "6000.0\n"
     ]
    }
   ],
   "source": [
    "monthly_salary = 72000 / 12\n",
    "print(monthly_salary)"
   ]
  },
  {
   "cell_type": "code",
   "execution_count": 14,
   "metadata": {},
   "outputs": [
    {
     "name": "stdout",
     "output_type": "stream",
     "text": [
      "Data Scientist AI Solutions 121000.0\n"
     ]
    }
   ],
   "source": [
    "job_title = 'Data Scientist'\n",
    "company_name = 'AI Solutions'\n",
    "salary = 110000\n",
    "total_compensation = salary + (salary * 0.1)\n",
    "print(job_title, company_name, total_compensation)"
   ]
  },
  {
   "cell_type": "code",
   "execution_count": 16,
   "metadata": {},
   "outputs": [
    {
     "data": {
      "text/plain": [
       "str"
      ]
     },
     "execution_count": 16,
     "metadata": {},
     "output_type": "execute_result"
    }
   ],
   "source": [
    "job_title = 'Data Scientist'\n",
    "type(job_title)"
   ]
  },
  {
   "cell_type": "code",
   "execution_count": 18,
   "metadata": {},
   "outputs": [
    {
     "data": {
      "text/plain": [
       "float"
      ]
     },
     "execution_count": 18,
     "metadata": {},
     "output_type": "execute_result"
    }
   ],
   "source": [
    "salary = 85000.50\n",
    "type(salary)"
   ]
  },
  {
   "cell_type": "code",
   "execution_count": 20,
   "metadata": {},
   "outputs": [
    {
     "data": {
      "text/plain": [
       "int"
      ]
     },
     "execution_count": 20,
     "metadata": {},
     "output_type": "execute_result"
    }
   ],
   "source": [
    "salary_rate = int(120000.75)\n",
    "type(salary_rate)"
   ]
  },
  {
   "cell_type": "code",
   "execution_count": 23,
   "metadata": {},
   "outputs": [
    {
     "data": {
      "text/plain": [
       "True"
      ]
     },
     "execution_count": 23,
     "metadata": {},
     "output_type": "execute_result"
    }
   ],
   "source": [
    "company_name = 'DataWiz Inc.'\n",
    "isinstance(company_name, str)"
   ]
  },
  {
   "cell_type": "code",
   "execution_count": 26,
   "metadata": {},
   "outputs": [
    {
     "name": "stdout",
     "output_type": "stream",
     "text": [
      "Job Title: Data Scientist\n"
     ]
    }
   ],
   "source": [
    "job_title = 'Data Scientist'\n",
    "new_string = 'Job Title: ' + job_title\n",
    "print(new_string)"
   ]
  },
  {
   "cell_type": "code",
   "execution_count": 30,
   "metadata": {},
   "outputs": [
    {
     "name": "stdout",
     "output_type": "stream",
     "text": [
      "Data Scientist at DataWiz Inc.\n"
     ]
    }
   ],
   "source": [
    "position = 'Data Scientist'\n",
    "company = 'DataWiz Inc.'\n",
    "print(f'{position} at {company}')"
   ]
  },
  {
   "cell_type": "code",
   "execution_count": 41,
   "metadata": {},
   "outputs": [
    {
     "name": "stdout",
     "output_type": "stream",
     "text": [
      "Role: Data Analyst, Skill: Python\n"
     ]
    }
   ],
   "source": [
    "role = 'Data Analyst'\n",
    "skill = 'Python'\n",
    "print('Role: {}, Skill: {}'.format(role, skill))"
   ]
  },
  {
   "cell_type": "code",
   "execution_count": 48,
   "metadata": {},
   "outputs": [
    {
     "name": "stdout",
     "output_type": "stream",
     "text": [
      "Role: Data Engineer, Skill: SQL\n"
     ]
    }
   ],
   "source": [
    "skill = 'SQL'\n",
    "role = 'Data Engineer'\n",
    "results = 'Role: %s, Skill: %s' % (role, skill)\n",
    "print(results)"
   ]
  }
 ],
 "metadata": {
  "kernelspec": {
   "display_name": "python_course",
   "language": "python",
   "name": "python3"
  },
  "language_info": {
   "codemirror_mode": {
    "name": "ipython",
    "version": 3
   },
   "file_extension": ".py",
   "mimetype": "text/x-python",
   "name": "python",
   "nbconvert_exporter": "python",
   "pygments_lexer": "ipython3",
   "version": "3.12.8"
  }
 },
 "nbformat": 4,
 "nbformat_minor": 2
}
